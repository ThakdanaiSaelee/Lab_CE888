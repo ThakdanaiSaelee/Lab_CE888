{
  "nbformat": 4,
  "nbformat_minor": 0,
  "metadata": {
    "colab": {
      "name": "bootstrap.ipynb",
      "provenance": [],
      "include_colab_link": true
    },
    "kernelspec": {
      "display_name": "Python 3",
      "language": "python",
      "name": "python3"
    },
    "language_info": {
      "codemirror_mode": {
        "name": "ipython",
        "version": 3
      },
      "file_extension": ".py",
      "mimetype": "text/x-python",
      "name": "python",
      "nbconvert_exporter": "python",
      "pygments_lexer": "ipython3",
      "version": "3.7.6"
    },
    "pycharm": {
      "stem_cell": {
        "cell_type": "raw",
        "metadata": {
          "collapsed": false
        },
        "source": []
      }
    }
  },
  "cells": [
    {
      "cell_type": "markdown",
      "metadata": {
        "id": "view-in-github",
        "colab_type": "text"
      },
      "source": [
        "<a href=\"https://colab.research.google.com/github/ThakdanaiSaelee/Lab_CE888/blob/main/lab2%20-%20bootstrap/bootstrap.ipynb\" target=\"_parent\"><img src=\"https://colab.research.google.com/assets/colab-badge.svg\" alt=\"Open In Colab\"/></a>"
      ]
    },
    {
      "cell_type": "markdown",
      "metadata": {
        "id": "nCi_99yMYIb1"
      },
      "source": [
        "In this notebook you'll create your own bootstrap function following the bootstrap algorithm (check the lecture notes!)"
      ]
    },
    {
      "cell_type": "code",
      "metadata": {
        "id": "LY5zujI2YC37",
        "pycharm": {
          "name": "#%%# Imports\n"
        }
      },
      "source": [
        "import matplotlib\n",
        "import pandas as pd\n",
        "import seaborn as sns\n",
        "import numpy as np\n",
        "\n"
      ],
      "execution_count": 11,
      "outputs": []
    },
    {
      "cell_type": "code",
      "metadata": {
        "id": "Eqkwj4SMY38t"
      },
      "source": [
        "# Load the data\n",
        "df = pd.read_csv('https://raw.githubusercontent.com/albanda/CE888/master/lab2%20-%20bootstrap/customers.csv')\n",
        "data = df.values.T[1]"
      ],
      "execution_count": 12,
      "outputs": []
    },
    {
      "cell_type": "code",
      "source": [
        "data.shape"
      ],
      "metadata": {
        "colab": {
          "base_uri": "https://localhost:8080/"
        },
        "id": "4XC-95SngLlB",
        "outputId": "165a82ba-2070-43df-a867-c5b85a6f9bd5"
      },
      "execution_count": 13,
      "outputs": [
        {
          "output_type": "execute_result",
          "data": {
            "text/plain": [
              "(14,)"
            ]
          },
          "metadata": {},
          "execution_count": 13
        }
      ]
    },
    {
      "cell_type": "code",
      "metadata": {
        "id": "Gxvc_bScYC4H",
        "pycharm": {
          "name": "#%%\n"
        }
      },
      "source": [
        "# Checking the notes from the lecture, create here your own bootstrap function:\n",
        "# 1. Sample from the input array x to create an array of samples of shape (n_bootstraps, sample_size)\n",
        "# Hint: Check the function random.choice() on Numpy\n",
        "# 2. Calculate and save the mean of the array (this is \"data_mean\" that is returned by the function)\n",
        "# 3. Calculate the mean from each bootstrap (i.e., row) and store it.\n",
        "# (This should be an array of n_bootstraps values)\n",
        "# 4. Calculate the lower and upper bounds for a 95% CI (hint: check the percentile function on Numpy)\n",
        "# 5. Return data_mean, and the lower and upper bounds of your interval\n",
        "def bootstrap_mean(x, sample_size, n_bootstraps):\n",
        "\t# <---INSERT YOUR CODE HERE--->\n",
        "\tmember = len(x)\n",
        "\tanswer_mean = []\n",
        "\tfor i in range(n_bootstraps):\n",
        "\t\tsample = np.random.choice(x, member)\n",
        "\t\tanswer_mean.append(np.mean(sample))\n",
        "\tanswer_mean = np.sort(answer_mean)\n",
        "\tdata_mean = np.mean(answer_mean)\n",
        "\tlower = answer_mean[0]\n",
        "\tupper = answer_mean[-1]\n",
        "\treturn data_mean, lower, upper\n"
      ],
      "execution_count": 14,
      "outputs": []
    },
    {
      "cell_type": "code",
      "metadata": {
        "id": "AN7sEOcMYC4P",
        "pycharm": {
          "name": "#%%\n"
        },
        "colab": {
          "base_uri": "https://localhost:8080/",
          "height": 441
        },
        "outputId": "542e0895-9507-4e50-e2c4-880b74f73e8f"
      },
      "source": [
        "# Call your bootstrap function and plot the results\n",
        "\n",
        "boots = []\n",
        "for i in range(100, 50000, 1000):\n",
        "    boot = bootstrap_mean(data, data.shape[0], i)\n",
        "    boots.append([i, boot[0], \"mean\"])\n",
        "    boots.append([i, boot[1], \"lower\"])\n",
        "    boots.append([i, boot[2], \"upper\"])\n",
        "\n",
        "df_boot = pd.DataFrame(boots, columns=['Bootstrap Iterations', 'Mean', \"Value\"])\n",
        "sns_plot = sns.lmplot(df_boot.columns[0], df_boot.columns[1], data=df_boot, fit_reg=False, hue=\"Value\")\n",
        "\n",
        "sns_plot.axes[0, 0].set_ylim(0,)\n",
        "sns_plot.axes[0, 0].set_xlim(0, 50000)\n"
      ],
      "execution_count": 15,
      "outputs": [
        {
          "output_type": "stream",
          "name": "stderr",
          "text": [
            "/usr/local/lib/python3.7/dist-packages/seaborn/_decorators.py:43: FutureWarning: Pass the following variables as keyword args: x, y. From version 0.12, the only valid positional argument will be `data`, and passing other arguments without an explicit keyword will result in an error or misinterpretation.\n",
            "  FutureWarning\n"
          ]
        },
        {
          "output_type": "execute_result",
          "data": {
            "text/plain": [
              "(0.0, 50000.0)"
            ]
          },
          "metadata": {},
          "execution_count": 15
        },
        {
          "output_type": "display_data",
          "data": {
            "image/png": "[encoded data removed]",
            "text/plain": [
              "<Figure size 425.125x360 with 1 Axes>"
            ]
          },
          "metadata": {
            "needs_background": "light"
          }
        }
      ]
    },
    {
      "cell_type": "markdown",
      "metadata": {
        "id": "MjtP4e2_YC4V"
      },
      "source": [
        "\n",
        "Now, modify the bootstrap function you created above so that you can pass your desired confidence interval as a parameter.\n",
        "\n"
      ]
    },
    {
      "cell_type": "code",
      "metadata": {
        "id": "3K9j0FuGYhHs"
      },
      "source": [
        "def bootstrap_mean_ci(sample, sample_size, n_bootstraps, ci):\n",
        "\t# <---INSERT YOUR CODE HERE--->\n",
        "\tmember = len(sample)\n",
        "\tanswer_mean = []\n",
        "\tfor i in range(n_bootstraps):\n",
        "\t\tre_sample = np.random.choice(sample, sample_size)\n",
        "\t\tanswer_mean.append(np.mean(re_sample))\n",
        "\tanswer_mean = np.sort(answer_mean)\n",
        "\tposition = ((100-ci)/2)\n",
        "\t# remove = round(remove)\n",
        "\t# if remove != 0:\n",
        "\t# \tanswer_mean = answer_mean[remove+1 : -remove]\n",
        "\tdata_mean = np.mean(answer_mean)\n",
        "\tlower = np.percentile(answer_mean, position)\n",
        "\tupper = np.percentile(answer_mean, 100-position)\n",
        "\treturn data_mean, lower, upper\n",
        "\n",
        "def bootstrap_standeviation_ci(sample, sample_size, n_bootstraps, ci):\n",
        "\t# <---INSERT YOUR CODE HERE--->\n",
        "\tmember = len(sample)\n",
        "\tanswer_std = []\n",
        "\tfor i in range(n_bootstraps):\n",
        "\t\tre_sample = np.random.choice(sample, sample_size)\n",
        "\t\tanswer_std.append(np.std(re_sample))\n",
        "\tanswer_std = np.sort(answer_std)\n",
        "\tposition = ((100-ci)/2)\n",
        "\tdata_std = np.std(answer_std)\n",
        "\tlower = np.percentile(answer_std, position)\n",
        "\tupper = np.percentile(answer_std, 100-position)\n",
        "\treturn data_std, lower, upper"
      ],
      "execution_count": 16,
      "outputs": []
    },
    {
      "cell_type": "code",
      "metadata": {
        "id": "uDnjq08GYl-C",
        "colab": {
          "base_uri": "https://localhost:8080/",
          "height": 441
        },
        "outputId": "980d34a7-346c-44df-9480-586f643af856"
      },
      "source": [
        "boots = []\n",
        "for i in range(100, 50000, 1000):\n",
        "    boot = bootstrap_mean_ci(data, data.shape[0], i, 80)\n",
        "    boots.append([i, boot[0], \"mean\"])\n",
        "    boots.append([i, boot[1], \"lower\"])\n",
        "    boots.append([i, boot[2], \"upper\"])\n",
        "\n",
        "df_boot = pd.DataFrame(boots, columns=['Boostrap Iterations', 'Mean', \"Value\"])\n",
        "sns_plot = sns.lmplot(df_boot.columns[0], df_boot.columns[1], data=df_boot, fit_reg=False, hue=\"Value\")\n",
        "\n",
        "sns_plot.axes[0, 0].set_ylim(0,)\n",
        "sns_plot.axes[0, 0].set_xlim(0, 50000)\n",
        "\n",
        "#sns_plot.savefig(\"bootstrap_confidence_80.pdf\", bbox_inches='tight')\n"
      ],
      "execution_count": 17,
      "outputs": [
        {
          "output_type": "stream",
          "name": "stderr",
          "text": [
            "/usr/local/lib/python3.7/dist-packages/seaborn/_decorators.py:43: FutureWarning: Pass the following variables as keyword args: x, y. From version 0.12, the only valid positional argument will be `data`, and passing other arguments without an explicit keyword will result in an error or misinterpretation.\n",
            "  FutureWarning\n"
          ]
        },
        {
          "output_type": "execute_result",
          "data": {
            "text/plain": [
              "(0.0, 50000.0)"
            ]
          },
          "metadata": {},
          "execution_count": 17
        },
        {
          "output_type": "display_data",
          "data": {
            "image/png": "[encoded data removed]",
            "text/plain": [
              "<Figure size 425.125x360 with 1 Axes>"
            ]
          },
          "metadata": {
            "needs_background": "light"
          }
        }
      ]
    },
    {
      "cell_type": "code",
      "source": [
        "data_mean, lower, upper = bootstrap_mean_ci(data, data.shape[0], 10000, 95)\n",
        "print('lower =',lower)\n",
        "print('upper =',upper)"
      ],
      "metadata": {
        "colab": {
          "base_uri": "https://localhost:8080/"
        },
        "id": "aDQVmSbon4c6",
        "outputId": "972357a3-a2a2-4072-8608-4bf90b053af2"
      },
      "execution_count": null,
      "outputs": [
        {
          "output_type": "stream",
          "name": "stdout",
          "text": [
            "lower = 6.357142857142857\n",
            "upper = 12.357142857142858\n"
          ]
        }
      ]
    },
    {
      "cell_type": "code",
      "source": [
        "data_mean, lower, upper = bootstrap_mean_ci(data, data.shape[0], 10000, 80)\n",
        "print('lower =',lower)\n",
        "print('upper =',upper)"
      ],
      "metadata": {
        "colab": {
          "base_uri": "https://localhost:8080/"
        },
        "id": "2djgEEGfoZTr",
        "outputId": "e7046d75-615c-4a89-8382-1948f5274515"
      },
      "execution_count": null,
      "outputs": [
        {
          "output_type": "stream",
          "name": "stdout",
          "text": [
            "lower = 7.285714285714286\n",
            "upper = 11.214285714285714\n"
          ]
        }
      ]
    },
    {
      "cell_type": "code",
      "source": [
        "data_std, lower, upper = bootstrap_standeviation_ci(data, data.shape[0], 10000, 85)\n",
        "print('lower =',lower)\n",
        "print('upper =',upper)"
      ],
      "metadata": {
        "colab": {
          "base_uri": "https://localhost:8080/"
        },
        "id": "DX6D1YCGsQTx",
        "outputId": "2ceb73de-de6c-4c31-e505-0a1c97e9cf64"
      },
      "execution_count": null,
      "outputs": [
        {
          "output_type": "stream",
          "name": "stdout",
          "text": [
            "lower = 3.3079217460673283\n",
            "upper = 6.9197292621333455\n"
          ]
        }
      ]
    },
    {
      "cell_type": "code",
      "source": [
        "data_std, lower, upper = bootstrap_standeviation_ci(data, data.shape[0], 10000, 99)\n",
        "print('lower =',lower)\n",
        "print('upper =',upper)"
      ],
      "metadata": {
        "colab": {
          "base_uri": "https://localhost:8080/"
        },
        "id": "eimKNUP4sQai",
        "outputId": "e8a39dbe-5f55-4e68-a137-933a7bdcc4d4"
      },
      "execution_count": null,
      "outputs": [
        {
          "output_type": "stream",
          "name": "stdout",
          "text": [
            "lower = 2.191093947804424\n",
            "upper = 7.802746766929896\n"
          ]
        }
      ]
    },
    {
      "cell_type": "markdown",
      "metadata": {
        "id": "qjNgXW6wdd7r"
      },
      "source": [
        "# Vehicles dataset\n",
        "\n",
        "Now let's work on a different dataset, which is stored in the vehicles.csv file.\n"
      ]
    },
    {
      "cell_type": "code",
      "metadata": {
        "id": "avWv4ipFdpka"
      },
      "source": [
        "# Load and visualise the vehicles dataset\n",
        "# To load the dataset: https://neptune.ai/blog/google-colab-dealing-with-files (check section \"Load individual files directly from GitHub\")\n",
        "\n",
        "\n",
        "# Note that the current and new fleets are in different columns and have different lengths, so bear this in mind when you're plotting.\n",
        "# You can create separate scatterplots for the two fleets, as you would with the histograms, \n",
        "# or plot them both in one plot (but not one against the other).\n",
        "# <---INSERT YOUR CODE HERE--->\n",
        "df = pd.read_csv('https://raw.githubusercontent.com/albanda/CE888/master/lab2%20-%20bootstrap/vehicles.csv')\n",
        "data_current = df[df.columns[0]].values\n",
        "data_new = df[df.columns[1]].values\n",
        "data_new = data_new[np.logical_not(np.isnan(data_new))]\n",
        "# Note: you can add more cells as needed to organise your code and your plots\n"
      ],
      "execution_count": 18,
      "outputs": []
    },
    {
      "cell_type": "code",
      "source": [
        "# Load the data\n",
        "sns_plot = sns.jointplot(df.columns[0], df.columns[0], data=df, height=5, ratio=2, marginal_ticks=True)"
      ],
      "metadata": {
        "colab": {
          "base_uri": "https://localhost:8080/",
          "height": 419
        },
        "id": "fgE3SNYCthep",
        "outputId": "55aa702d-07a8-413e-d04e-deac26f580d9"
      },
      "execution_count": 9,
      "outputs": [
        {
          "output_type": "stream",
          "name": "stderr",
          "text": [
            "/usr/local/lib/python3.7/dist-packages/seaborn/_decorators.py:43: FutureWarning: Pass the following variables as keyword args: x, y. From version 0.12, the only valid positional argument will be `data`, and passing other arguments without an explicit keyword will result in an error or misinterpretation.\n",
            "  FutureWarning\n"
          ]
        },
        {
          "output_type": "display_data",
          "data": {
            "image/png": "[encoded data removed]",
            "text/plain": [
              "<Figure size 360x360 with 3 Axes>"
            ]
          },
          "metadata": {
            "needs_background": "light"
          }
        }
      ]
    },
    {
      "cell_type": "code",
      "source": [
        "sns_plot = sns.jointplot(df.columns[1], df.columns[1], data=df, height=5, ratio=2, marginal_ticks=True)"
      ],
      "metadata": {
        "id": "y9C7hMfzA4hy",
        "outputId": "fec2065a-6306-4512-cd36-626e011d16a6",
        "colab": {
          "base_uri": "https://localhost:8080/",
          "height": 419
        }
      },
      "execution_count": 10,
      "outputs": [
        {
          "output_type": "stream",
          "name": "stderr",
          "text": [
            "/usr/local/lib/python3.7/dist-packages/seaborn/_decorators.py:43: FutureWarning: Pass the following variables as keyword args: x, y. From version 0.12, the only valid positional argument will be `data`, and passing other arguments without an explicit keyword will result in an error or misinterpretation.\n",
            "  FutureWarning\n"
          ]
        },
        {
          "output_type": "display_data",
          "data": {
            "image/png": "[encoded data removed]",
            "text/plain": [
              "<Figure size 360x360 with 3 Axes>"
            ]
          },
          "metadata": {
            "needs_background": "light"
          }
        }
      ]
    },
    {
      "cell_type": "markdown",
      "metadata": {
        "id": "B5d0tXDpIEj8"
      },
      "source": [
        "## Compare the two fleets\n",
        "\n",
        "The business analysts come up a comparison algorithm that requires the upper and lower bounds for the mean in order to say which fleet is better.\n",
        "1. Calculate the mean of both samples.\n",
        "2. Using the bootstrap function that you created:\n",
        "    - Construct the 95% CI of the mean of the current fleet.\n",
        "    - Construct the 95% CI of the mean of the new fleet.\n",
        "    - Are they comparable? (i.e., is one better than the other?) -- you can do this with a permutation test (check the lecture notes!)"
      ]
    },
    {
      "cell_type": "code",
      "metadata": {
        "id": "po4mp6zRHC0m",
        "colab": {
          "base_uri": "https://localhost:8080/"
        },
        "outputId": "d7725bc1-47c6-4bc3-f9ad-6e75c5469a4f"
      },
      "source": [
        "# <---INSERT YOUR CODE HERE--->\n",
        "# Load the data\n",
        "df = pd.read_csv('https://raw.githubusercontent.com/albanda/CE888/master/lab2%20-%20bootstrap/vehicles.csv')\n",
        "data_current = df[df.columns[0]].values\n",
        "data_new = df[df.columns[1]].values\n",
        "data_new = data_new[np.logical_not(np.isnan(data_new))]\n",
        "print('Mean of current fleet =',np.mean(data_current))\n",
        "print('Mean of new fleet =',np.mean(data_new))"
      ],
      "execution_count": 19,
      "outputs": [
        {
          "output_type": "stream",
          "name": "stdout",
          "text": [
            "Mean of current fleet = 20.14457831325301\n",
            "Mean of new fleet = 30.481012658227847\n"
          ]
        }
      ]
    },
    {
      "cell_type": "code",
      "source": [
        "current, lower, upper = bootstrap_mean_ci(data_current,len(data_current),10000,92)\n",
        "print('Mean of current fleet with 92% between',lower,'and',upper)"
      ],
      "metadata": {
        "colab": {
          "base_uri": "https://localhost:8080/"
        },
        "id": "A-qUC72X80t8",
        "outputId": "38952668-b706-44ff-cafc-acd8e6875a92"
      },
      "execution_count": 20,
      "outputs": [
        {
          "output_type": "stream",
          "name": "stdout",
          "text": [
            "Mean of current fleet with 92% between 19.453815261044177 and 20.879518072289155\n"
          ]
        }
      ]
    },
    {
      "cell_type": "code",
      "source": [
        "current, lower, upper = bootstrap_standeviation_ci(data_current,len(data_current),10000,73)\n",
        "print('Stdv of current fleet with 73% between',lower,'and',upper)"
      ],
      "metadata": {
        "id": "nDUWQhMfDFC7",
        "outputId": "d993fe67-e6bc-4a24-a11a-fd2458dcbf38",
        "colab": {
          "base_uri": "https://localhost:8080/"
        }
      },
      "execution_count": 23,
      "outputs": [
        {
          "output_type": "stream",
          "name": "stdout",
          "text": [
            "Stdv of current fleet with 73% between 6.0613364066373885 and 6.702759618036629\n"
          ]
        }
      ]
    },
    {
      "cell_type": "code",
      "source": [
        "current, lower, upper = bootstrap_mean_ci(data_new,len(data_new),10000,95)\n",
        "print('Mean of new fleet with 95% between',lower,'and',upper)"
      ],
      "metadata": {
        "colab": {
          "base_uri": "https://localhost:8080/"
        },
        "id": "BAvA23NJ9crV",
        "outputId": "c8a5f0d9-b4e4-4c31-db89-c6ad6875a730"
      },
      "execution_count": 21,
      "outputs": [
        {
          "output_type": "stream",
          "name": "stdout",
          "text": [
            "Mean of new fleet with 95% between 29.139240506329113 and 31.823101265822782\n"
          ]
        }
      ]
    },
    {
      "cell_type": "code",
      "source": [
        "current, lower, upper = bootstrap_standeviation_ci(data_new,len(data_new),10000,73)\n",
        "print('Stdv of new fleet with 95% between',lower,'and',upper)"
      ],
      "metadata": {
        "id": "ODtLya39Cr9H",
        "outputId": "f7870515-8b03-4e37-8236-53cac8200982",
        "colab": {
          "base_uri": "https://localhost:8080/"
        }
      },
      "execution_count": 22,
      "outputs": [
        {
          "output_type": "stream",
          "name": "stdout",
          "text": [
            "Stdv of new fleet with 95% between 5.508892026775839 and 6.5017608185339375\n"
          ]
        }
      ]
    },
    {
      "cell_type": "code",
      "metadata": {
        "id": "MkxvDZG4HC0n"
      },
      "source": [
        "# Create your own function for a permutation test here (you will need it for the lab quiz!):\n",
        "def p_value(data_old, data_new,round_permutation):\n",
        "  old_mean = np.mean(data_old)\n",
        "  new_mean = np.mean(data_new)\n",
        "  cutoff_mean = new_mean-old_mean\n",
        "  all_data = np.concatenate((data_old,data_new))\n",
        "  count = 0\n",
        "  for i in range(round_permutation):\n",
        "    permu = np.random.permutation(all_data)\n",
        "    p_old = permu[:len(data_old)]\n",
        "    p_new = permu[len(data_old):]\n",
        "    mean_p_old = np.mean(p_old)\n",
        "    mean_p_new = np.mean(p_new)\n",
        "    mean_permu = mean_p_new - mean_p_old\n",
        "    if mean_permu > cutoff_mean:\n",
        "      count += 1\n",
        "  return (count/round_permutation)"
      ],
      "execution_count": 24,
      "outputs": []
    },
    {
      "cell_type": "code",
      "source": [
        "p_values = p_value(data_current,data_new,30000)\n",
        "print(p_values)"
      ],
      "metadata": {
        "colab": {
          "base_uri": "https://localhost:8080/"
        },
        "id": "8ENudBwT9jHy",
        "outputId": "c009abc6-3c2a-4826-d2f2-fbad71aac937"
      },
      "execution_count": 25,
      "outputs": [
        {
          "output_type": "stream",
          "name": "stdout",
          "text": [
            "0.0\n"
          ]
        }
      ]
    },
    {
      "cell_type": "code",
      "source": [
        "#voting data\n",
        "dem_share_PA = [60.08, 40.64, 36.07, 41.21, 31.04, 43.78, 44.08, 46.85, 44.71, 46.15, 63.10, 52.20, 43.18, 40.24, 39.92, 47.87, 37.77, 40.11, 49.85, 48.61, 38.62, 54.25, 34.84, 47.75, 43.82, 55.97, 58.23, 42.97, 42.38, 36.11, 37.53, 42.65, 50.96, 47.43, 56.24, 45.60, 46.39, 35.22, 48.56, 32.97, 57.88, 36.05, 37.72, 50.36, 32.12, 41.55, 54.66, 57.81, 54.58, 32.88, 54.37, 40.45, 47.61, 60.49, 43.11, 27.32, 44.03, 33.56, 37.26, 54.64, 43.12, 25.34, 49.79, 83.56, 40.09, 60.81, 49.81]\n",
        "dem_share_OH = [56.94, 50.46, 65.99, 45.88, 42.23, 45.26, 57.01, 53.61, 59.10, 61.48, 43.43, 44.69, 54.59, 48.36, 45.89, 48.62, 43.92, 38.23, 28.79, 63.57, 38.07, 40.18, 43.05, 41.56, 42.49, 36.06, 52.76, 46.07, 39.43, 39.26, 47.47, 27.92, 38.01, 45.45, 29.07, 28.94, 51.28, 50.10, 39.84, 36.43, 35.71, 31.47, 47.01, 40.10, 48.76, 31.56, 39.86, 45.31, 35.47, 51.38, 46.33, 48.73, 41.77, 41.32, 48.46, 53.14, 34.01, 54.74, 40.67, 38.96, 46.29, 38.25, 6.80, 31.75, 46.33, 44.90, 33.57, 38.10, 39.67, 40.47, 49.44, 37.62, 36.71, 46.73, 42.20, 53.16, 52.40, 58.36, 68.02, 38.53, 34.58, 69.64, 60.50, 53.53, 36.54, 49.58, 41.97, 38.11]"
      ],
      "metadata": {
        "id": "GdMdUpxU-UIk"
      },
      "execution_count": 26,
      "outputs": []
    },
    {
      "cell_type": "code",
      "source": [
        "print('vote PA',len(dem_share_PA))\n",
        "print('vote OH',len(dem_share_OH))"
      ],
      "metadata": {
        "colab": {
          "base_uri": "https://localhost:8080/"
        },
        "id": "Q_ieEdpV-uWy",
        "outputId": "7b576bcd-d38b-49f7-c58a-c7aca4e17e4e"
      },
      "execution_count": 27,
      "outputs": [
        {
          "output_type": "stream",
          "name": "stdout",
          "text": [
            "vote PA 67\n",
            "vote OH 88\n"
          ]
        }
      ]
    },
    {
      "cell_type": "code",
      "source": [
        "current, lower, upper = bootstrap_mean_ci(dem_share_PA,len(dem_share_PA),10000,98)\n",
        "print('Mean of voting PA with 98% between',lower,'and',upper)"
      ],
      "metadata": {
        "colab": {
          "base_uri": "https://localhost:8080/"
        },
        "id": "BY2usjFY_RDK",
        "outputId": "d18b71f9-39cd-4dca-9317-57f7bf44939f"
      },
      "execution_count": 28,
      "outputs": [
        {
          "output_type": "stream",
          "name": "stdout",
          "text": [
            "Mean of voting PA with 98% between 42.752537313432846 and 48.384346268656714\n"
          ]
        }
      ]
    },
    {
      "cell_type": "code",
      "source": [
        "current, lower, upper = bootstrap_mean_ci(dem_share_OH,len(dem_share_OH),10000,98)\n",
        "print('Mean of voting OH with 98% between',lower,'and',upper)"
      ],
      "metadata": {
        "colab": {
          "base_uri": "https://localhost:8080/"
        },
        "id": "fimB16ex_RFt",
        "outputId": "fbbb930e-7e7e-46e8-e19f-2184588a5922"
      },
      "execution_count": 29,
      "outputs": [
        {
          "output_type": "stream",
          "name": "stdout",
          "text": [
            "Mean of voting OH with 98% between 41.81652386363637 and 46.7580875\n"
          ]
        }
      ]
    },
    {
      "cell_type": "code",
      "source": [
        "p_values = p_value(dem_share_PA,dem_share_OH,30000)\n",
        "print('P_value =', p_values)"
      ],
      "metadata": {
        "colab": {
          "base_uri": "https://localhost:8080/"
        },
        "id": "bOYmY79l_8Sa",
        "outputId": "a76e3048-0640-4a99-922e-3ce0c58f5526"
      },
      "execution_count": 30,
      "outputs": [
        {
          "output_type": "stream",
          "name": "stdout",
          "text": [
            "P_value = 0.7696333333333333\n"
          ]
        }
      ]
    }
  ]
}